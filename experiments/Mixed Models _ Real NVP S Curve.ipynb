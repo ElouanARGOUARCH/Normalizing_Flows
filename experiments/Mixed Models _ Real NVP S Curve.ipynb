{
 "cells": [
  {
   "cell_type": "code",
   "execution_count": 1,
   "metadata": {},
   "outputs": [
    {
     "ename": "ModuleNotFoundError",
     "evalue": "No module named 'target'",
     "output_type": "error",
     "traceback": [
      "\u001b[1;31m---------------------------------------------------------------------------\u001b[0m",
      "\u001b[1;31mModuleNotFoundError\u001b[0m                       Traceback (most recent call last)",
      "Input \u001b[1;32mIn [1]\u001b[0m, in \u001b[0;36m<cell line: 6>\u001b[1;34m()\u001b[0m\n\u001b[0;32m      3\u001b[0m \u001b[38;5;28;01mimport\u001b[39;00m \u001b[38;5;21;01msys\u001b[39;00m\n\u001b[0;32m      4\u001b[0m sys\u001b[38;5;241m.\u001b[39mpath\u001b[38;5;241m.\u001b[39mappend(\u001b[38;5;124m'\u001b[39m\u001b[38;5;124m..\u001b[39m\u001b[38;5;124m'\u001b[39m)\n\u001b[1;32m----> 6\u001b[0m \u001b[38;5;28;01mfrom\u001b[39;00m \u001b[38;5;21;01mtarget\u001b[39;00m\u001b[38;5;21;01m.\u001b[39;00m\u001b[38;5;21;01mdensity_estimation_target\u001b[39;00m \u001b[38;5;28;01mimport\u001b[39;00m \u001b[38;5;241m*\u001b[39m\n\u001b[0;32m      7\u001b[0m get_ipython()\u001b[38;5;241m.\u001b[39mrun_line_magic(\u001b[38;5;124m'\u001b[39m\u001b[38;5;124mload_ext\u001b[39m\u001b[38;5;124m'\u001b[39m, \u001b[38;5;124m'\u001b[39m\u001b[38;5;124mautoreload\u001b[39m\u001b[38;5;124m'\u001b[39m)\n\u001b[0;32m      8\u001b[0m get_ipython()\u001b[38;5;241m.\u001b[39mrun_line_magic(\u001b[38;5;124m'\u001b[39m\u001b[38;5;124mautoreload\u001b[39m\u001b[38;5;124m'\u001b[39m, \u001b[38;5;124m'\u001b[39m\u001b[38;5;124m2\u001b[39m\u001b[38;5;124m'\u001b[39m)\n",
      "\u001b[1;31mModuleNotFoundError\u001b[0m: No module named 'target'"
     ]
    }
   ],
   "source": [
    "import torch \n",
    "torch.manual_seed(1)\n",
    "import sys\n",
    "sys.path.append('..')\n",
    "\n",
    "from target.density_estimation_target import *\n",
    "%load_ext autoreload\n",
    "%autoreload 2\n",
    "\n",
    "import matplotlib as mpl\n",
    "mpl.rcParams['mathtext.fontset'] = 'cm'\n",
    "mpl.rcParams['mathtext.rm'] = 'serif'"
   ]
  },
  {
   "cell_type": "code",
   "execution_count": null,
   "metadata": {
    "scrolled": true
   },
   "outputs": [],
   "source": [
    "from models_nf import MixedModelDensityEstimator,DIFDensityEstimatorLayer,RealNVPDensityEstimatorLayer,DIFSamplerLayer, RealNVPSamplerLayer, MixedModelSampler"
   ]
  },
  {
   "cell_type": "code",
   "execution_count": null,
   "metadata": {},
   "outputs": [],
   "source": [
    "import numpy as np\n",
    "import matplotlib.pyplot as plt\n",
    "from matplotlib.colors import ListedColormap\n",
    "import seaborn as sns\n",
    "N = 256\n",
    "orange = np.ones((N, 4))\n",
    "orange[:, 0] = np.geomspace(255 / 256, 1, N)  # R = 255\n",
    "orange[:, 1] = np.geomspace(165 / 256, 1, N)  # G = 165\n",
    "orange[:, 2] = np.geomspace(0.001 / 256, 1, N)  # B = 0\n",
    "orange_cmap = ListedColormap(orange[::-1])\n",
    "\n",
    "orange_color = \"#FFA500\"\n",
    "\n",
    "red = np.ones((N, 4))\n",
    "red[:, 0] = np.geomspace(255 / 256, 1, N)  # R = 255\n",
    "red[:, 1] = np.geomspace(0.001 / 256, 1, N)  # G = 0\n",
    "red[:, 2] = np.geomspace(0.001 / 256, 1, N)  # B = 0\n",
    "red_cmap = ListedColormap(red[::-1])\n",
    "\n",
    "red_color = \"#FF0000\"\n",
    "\n",
    "blue = np.ones((N, 4))\n",
    "blue[:, 0] = np.geomspace(0.001 / 256, 1, N)  # R = 0\n",
    "blue[:, 1] = np.geomspace(0.001 / 256, 1, N)  # G = 0\n",
    "blue[:, 2] = np.geomspace(255 / 256, 1, N)  # B = 255\n",
    "blue_cmap = ListedColormap(blue[::-1])\n",
    "\n",
    "blue_color = \"#0000FF\"\n",
    "\n",
    "green = np.ones((N, 4))\n",
    "green[:, 0] = np.geomspace(0.001 / 256, 1, N)  # R = 0\n",
    "green[:, 1] = np.geomspace(128 / 256, 1, N)  # G = 128\n",
    "green[:, 2] = np.geomspace(0.001 / 256, 1, N)  # B = 128\n",
    "green_cmap = ListedColormap(green[::-1])\n",
    "\n",
    "green_color = \"#008000\"\n",
    "\n",
    "pink = np.ones((N, 4))\n",
    "pink[:, 0] = np.geomspace(255 / 256, 1, N)  # R = 255\n",
    "pink[:, 1] = np.geomspace(0.001 / 256, 1, N)  # G = 0\n",
    "pink[:, 2] = np.geomspace(211 / 256, 1, N)  # B = 211\n",
    "pink_cmap = ListedColormap(pink[::-1])\n",
    "\n",
    "pink_color = \"#FF00D3\"\n",
    "\n",
    "purple = np.ones((N, 4))\n",
    "purple[:, 0] = np.geomspace(51 / 256, 1, N)  # R = 102\n",
    "purple[:, 1] = np.geomspace(0.001 / 256, 1, N)  # G = 0\n",
    "purple[:, 2] = np.geomspace(51 / 256, 1, N)  # B = 102\n",
    "purple_cmap = ListedColormap(purple[::-1])\n",
    "\n",
    "purple_color = \"#660066\""
   ]
  },
  {
   "cell_type": "code",
   "execution_count": null,
   "metadata": {},
   "outputs": [],
   "source": [
    "example =  \"Normalized Dimension 1\"\n",
    "num_samples = 50000\n",
    "target =Target(example, num_samples)\n",
    "target.target_visual()\n",
    "p, target_log_density, target_samples = target.get_target()"
   ]
  },
  {
   "cell_type": "code",
   "execution_count": null,
   "metadata": {},
   "outputs": [],
   "source": [
    "num_samples = target_samples.shape[0]\n",
    "batch_size = 5000\n",
    "epochs =200\n",
    "structure = [[DIFSamplerLayer,5],[DIFSamplerLayer,5]]\n",
    "flow = MixedModelSampler(target_log_density,p,structure)\n",
    "flow.train(num_samples, epochs, batch_size)"
   ]
  },
  {
   "cell_type": "code",
   "execution_count": 2,
   "metadata": {},
   "outputs": [
    {
     "ename": "NameError",
     "evalue": "name 'target_samples' is not defined",
     "output_type": "error",
     "traceback": [
      "\u001b[1;31m---------------------------------------------------------------------------\u001b[0m",
      "\u001b[1;31mNameError\u001b[0m                                 Traceback (most recent call last)",
      "Input \u001b[1;32mIn [2]\u001b[0m, in \u001b[0;36m<cell line: 1>\u001b[1;34m()\u001b[0m\n\u001b[1;32m----> 1\u001b[0m num_samples \u001b[38;5;241m=\u001b[39m \u001b[43mtarget_samples\u001b[49m\u001b[38;5;241m.\u001b[39mshape[\u001b[38;5;241m0\u001b[39m]\n\u001b[0;32m      2\u001b[0m batch_size \u001b[38;5;241m=\u001b[39m \u001b[38;5;241m5000\u001b[39m\n\u001b[0;32m      3\u001b[0m epochs \u001b[38;5;241m=\u001b[39m\u001b[38;5;241m200\u001b[39m\n",
      "\u001b[1;31mNameError\u001b[0m: name 'target_samples' is not defined"
     ]
    }
   ],
   "source": [
    "num_samples = target_samples.shape[0]\n",
    "batch_size = 5000\n",
    "epochs =200\n",
    "structure = [[DIFDensityEstimatorLayer,5],[DIFDensityEstimatorLayer,5]]\n",
    "dif = MixedModelDensityEstimator(target_samples,structure)\n",
    "dif.train(epochs, batch_size)"
   ]
  },
  {
   "cell_type": "code",
   "execution_count": null,
   "metadata": {},
   "outputs": [],
   "source": [
    "###Visualize Flow model dimension 1###\n",
    "\n",
    "flow_to_visualize = dif\n",
    "import seaborn as sns\n"
   ]
  },
  {
   "cell_type": "code",
   "execution_count": null,
   "metadata": {},
   "outputs": [],
   "source": [
    "example =  \"S Curve\"\n",
    "num_samples = 50000\n",
    "target =Target(example, num_samples)\n",
    "target.target_visual()\n",
    "p, target_log_density, target_samples = target.get_target()"
   ]
  },
  {
   "cell_type": "code",
   "execution_count": null,
   "metadata": {},
   "outputs": [],
   "source": [
    "num_samples = target_samples.shape[0]\n",
    "batch_size = 5000\n",
    "epochs =2000\n",
    "structure = [[RealNVPDensityEstimatorLayer,[128,128,128]],[RealNVPDensityEstimatorLayer,[128,128,128]],[RealNVPDensityEstimatorLayer,[128,128,128]]]\n",
    "realnvp = MixedModelDensityEstimator(target_samples,structure)\n",
    "realnvp.train(epochs, batch_size)"
   ]
  },
  {
   "cell_type": "code",
   "execution_count": null,
   "metadata": {},
   "outputs": [],
   "source": [
    "target_log_density = lambda samples: realnvp.log_density(samples.cpu()).to(samples.device)\n",
    "num_samples = target_samples.shape[0]\n",
    "batch_size = 5000\n",
    "epochs =2000\n",
    "structure = [[RealNVPSamplerLayer,[128,128,128]],[RealNVPSamplerLayer,[128,128,128]],[RealNVPSamplerLayer,[128,128,128]]]\n",
    "flow = MixedModelSampler(target_log_density,2,structure)\n",
    "flow.train(num_samples,epochs,batch_size)"
   ]
  },
  {
   "cell_type": "code",
   "execution_count": null,
   "metadata": {},
   "outputs": [],
   "source": []
  }
 ],
 "metadata": {
  "accelerator": "GPU",
  "colab": {
   "collapsed_sections": [],
   "name": "DUAN TMC",
   "provenance": []
  },
  "kernelspec": {
   "display_name": "Python 3 (ipykernel)",
   "language": "python",
   "name": "python3"
  },
  "language_info": {
   "codemirror_mode": {
    "name": "ipython",
    "version": 3
   },
   "file_extension": ".py",
   "mimetype": "text/x-python",
   "name": "python",
   "nbconvert_exporter": "python",
   "pygments_lexer": "ipython3",
   "version": "3.9.2"
  }
 },
 "nbformat": 4,
 "nbformat_minor": 1
}
